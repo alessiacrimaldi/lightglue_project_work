{
 "cells": [
  {
   "cell_type": "markdown",
   "id": "43103cbf-59e9-4b8d-8e1f-332e128cafcc",
   "metadata": {},
   "source": [
    "# LightGlue"
   ]
  },
  {
   "cell_type": "code",
   "execution_count": 4,
   "id": "86040487-2bae-4a97-9686-6d72c7a3db79",
   "metadata": {},
   "outputs": [],
   "source": [
    "from lightglue import LightGlue, SuperPoint\n",
    "import torch"
   ]
  },
  {
   "cell_type": "code",
   "execution_count": null,
   "id": "eff00bdd-cc4b-41d1-ac8a-401694164651",
   "metadata": {},
   "outputs": [],
   "source": []
  }
 ],
 "metadata": {
  "kernelspec": {
   "display_name": "Python 3 (ipykernel)",
   "language": "python",
   "name": "python3"
  },
  "language_info": {
   "codemirror_mode": {
    "name": "ipython",
    "version": 3
   },
   "file_extension": ".py",
   "mimetype": "text/x-python",
   "name": "python",
   "nbconvert_exporter": "python",
   "pygments_lexer": "ipython3",
   "version": "3.12.7"
  }
 },
 "nbformat": 4,
 "nbformat_minor": 5
}
